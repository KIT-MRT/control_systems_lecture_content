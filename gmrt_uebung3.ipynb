{
 "cells": [
  {
   "cell_type": "code",
   "execution_count": null,
   "id": "1d6f5abf-cc1d-48df-b4ce-f2587c1b18ad",
   "metadata": {},
   "outputs": [],
   "source": [
    "using Plots, ControlSystems, Interact, Printf"
   ]
  },
  {
   "cell_type": "markdown",
   "id": "c7ff87ec-a42a-4b69-9a96-50793b9c669e",
   "metadata": {},
   "source": [
    "# Aufgabe 1.1"
   ]
  },
  {
   "cell_type": "markdown",
   "id": "fe8364be-0814-42ec-84f5-c36d32032a6b",
   "metadata": {},
   "source": [
    "Definiere Übertragungsfunktion über Koeffizienten der Zähler- und Nennerterme."
   ]
  },
  {
   "cell_type": "code",
   "execution_count": null,
   "id": "9e578d5d-171b-46dc-a1ba-3fe8298b0c94",
   "metadata": {},
   "outputs": [],
   "source": [
    "G = tf([1], [1, 1]) * tf([1/20, 1],[1])^2 * tf([1], [1/100, 1]) * tf([1], [1/500, 1])"
   ]
  },
  {
   "cell_type": "code",
   "execution_count": null,
   "id": "80d9552e-91e4-4382-902e-e3d610c067b6",
   "metadata": {},
   "outputs": [],
   "source": [
    "# compute Bode plot only once\n",
    "bode = bodeplot(G, label=nothing);"
   ]
  },
  {
   "cell_type": "markdown",
   "id": "3d3fa60a-c64a-47bb-a33d-de94e994b2ce",
   "metadata": {},
   "source": [
    "Für eine gegebene Frequenz $\\omega$ werden das Eingangs- und das verstärkte und phasenverschobene Ausgangssignal gezeigt."
   ]
  },
  {
   "cell_type": "code",
   "execution_count": null,
   "id": "c6d67e1d-9a53-456e-a3f3-4e2d42d28318",
   "metadata": {},
   "outputs": [],
   "source": [
    "@manipulate for ω = exp10.(-2:0.01:4)\n",
    "    # frequency response G(jω)\n",
    "    Gjω = G(im*ω)[1]\n",
    "    # amplitude and phase of frequency response G(jω)\n",
    "    a, ϕ = abs(Gjω), angle(Gjω)\n",
    "    # phase shift converted to time shift\n",
    "    t₀ = - ϕ / ω\n",
    "    # periodic time\n",
    "    T = 2π / ω\n",
    "    \n",
    "    # input signal\n",
    "    input(t) = sin(ω*t)\n",
    "    # output signal\n",
    "    output(t) = a*sin(ω*t + ϕ)\n",
    "\n",
    "    # plot input and output signal\n",
    "    io_plot = plot([input, output], range(0, stop=2T, length=100), label=[\"Eingang\" \"Ausgang\"])\n",
    "\n",
    "    # enrich Bode plot\n",
    "    bp = deepcopy(bode)\n",
    "    vline!(bp[1],[ω], label=\"ω₀\")\n",
    "    hline!(bp[1], [a], label=\"Amplitudenverstärkung\")\n",
    "    vline!(bp[2],[ω], label=\"ω₀\")\n",
    "    hline!(bp[2],[rad2deg(ϕ)], label=\"Phasenverschiebung\")\n",
    "    \n",
    "    p = plot(io_plot, bp, layout=(1,2), size=(1000, 500))\n",
    "    hbox(vbox(\n",
    "        @sprintf(\"ω = %.2f\", ω), hskip(0em),\n",
    "        @sprintf(\"a = %.2f\", a), hskip(0em),\n",
    "        @sprintf(\"ϕ = %.1f°\", rad2deg(ϕ)), hskip(0em),\n",
    "        @sprintf(\"t₀ = %.2f\", t₀), hskip(0em),\n",
    "        @sprintf(\"T = %.2f\", T), hskip(0em)\n",
    "    ), hskip(5em), p)\n",
    "end"
   ]
  }
 ],
 "metadata": {
  "@webio": {
   "lastCommId": "2abbf71e-afbb-43cb-bfb3-2a48c8317107",
   "lastKernelId": "4b1d94f4-5eb8-450b-aa3c-ac6be72784bf"
  },
  "kernelspec": {
   "display_name": "Julia 1.8.1",
   "language": "julia",
   "name": "julia-1.8"
  },
  "language_info": {
   "file_extension": ".jl",
   "mimetype": "application/julia",
   "name": "julia",
   "version": "1.8.1"
  }
 },
 "nbformat": 4,
 "nbformat_minor": 5
}
