{
 "cells": [
  {
   "cell_type": "code",
   "execution_count": null,
   "id": "1d6f5abf-cc1d-48df-b4ce-f2587c1b18ad",
   "metadata": {},
   "outputs": [],
   "source": [
    "using Plots, ControlSystems, Interact, Printf"
   ]
  },
  {
   "cell_type": "markdown",
   "id": "c7ff87ec-a42a-4b69-9a96-50793b9c669e",
   "metadata": {},
   "source": [
    "# Exercise 1.1"
   ]
  },
  {
   "cell_type": "markdown",
   "id": "fe8364be-0814-42ec-84f5-c36d32032a6b",
   "metadata": {},
   "source": [
    "Define transfer function with coefficients of numerator and denominator."
   ]
  },
  {
   "cell_type": "code",
   "execution_count": null,
   "id": "9e578d5d-171b-46dc-a1ba-3fe8298b0c94",
   "metadata": {},
   "outputs": [],
   "source": [
    "G = tf([1], [1, 1]) * tf([1/20, 1],[1])^2 * tf([1], [1/100, 1]) * tf([1], [1/500, 1])"
   ]
  },
  {
   "cell_type": "markdown",
   "id": "000c2f8e-ae16-4779-993a-02e82bc49163",
   "metadata": {},
   "source": [
    "For a given frequency $\\omega$ show input signal and amplified and phase shifted output signal."
   ]
  },
  {
   "cell_type": "code",
   "execution_count": null,
   "id": "e7591e54-27e3-48e0-a476-34ac242be301",
   "metadata": {},
   "outputs": [],
   "source": [
    "# compute Bode plot only once\n",
    "bode = bodeplot(G, label=nothing);"
   ]
  },
  {
   "cell_type": "code",
   "execution_count": null,
   "id": "d70ab1df-f56c-4e89-8b02-14d444f09a3d",
   "metadata": {},
   "outputs": [],
   "source": [
    "@manipulate for ω = exp10.(-2:0.01:4)\n",
    "    # frequency response G(jω)\n",
    "    Gjω = G(im*ω)[1]\n",
    "    # amplitude and phase of frequency response G(jω)\n",
    "    a, ϕ = abs(Gjω), angle(Gjω)\n",
    "    # phase shift converted to time shift\n",
    "    t₀ = - ϕ / ω\n",
    "    # periodic time\n",
    "    T = 2π / ω\n",
    "    \n",
    "    # input signal\n",
    "    input(t) = sin(ω*t)\n",
    "    # output signal\n",
    "    output(t) = a*sin(ω*t + ϕ)\n",
    "\n",
    "    # plot input and output signal\n",
    "    io_plot = plot([input, output], range(0, stop=2T, length=100), label=[\"Input\" \"Output\"])\n",
    "\n",
    "    # enrich Bode plot\n",
    "    bp = deepcopy(bode)\n",
    "    vline!(bp[1],[ω], label=\"ω₀\")\n",
    "    hline!(bp[1], [a], label=\"amplitude gain\")\n",
    "    vline!(bp[2],[ω], label=\"ω₀\")\n",
    "    hline!(bp[2],[rad2deg(ϕ)], label=\"phase shift\")\n",
    "    \n",
    "    p = plot(io_plot, bp, layout=(1,2), size=(1000, 500))\n",
    "    hbox(vbox(\n",
    "        @sprintf(\"ω = %.2f\", ω), hskip(0em),\n",
    "        @sprintf(\"a = %.2f\", a), hskip(0em),\n",
    "        @sprintf(\"ϕ = %.1f°\", rad2deg(ϕ)), hskip(0em),\n",
    "        @sprintf(\"t₀ = %.2f\", t₀), hskip(0em),\n",
    "        @sprintf(\"T = %.2f\", T), hskip(0em)\n",
    "    ), hskip(5em), p)\n",
    "end"
   ]
  }
 ],
 "metadata": {
  "@webio": {
   "lastCommId": "23de8500-f2e2-46b8-a470-7fea10ec04f0",
   "lastKernelId": "25e4ad1b-4a36-41f4-8948-ef2919322e64"
  },
  "kernelspec": {
   "display_name": "Julia 1.8.1",
   "language": "julia",
   "name": "julia-1.8"
  },
  "language_info": {
   "file_extension": ".jl",
   "mimetype": "application/julia",
   "name": "julia",
   "version": "1.8.1"
  }
 },
 "nbformat": 4,
 "nbformat_minor": 5
}
