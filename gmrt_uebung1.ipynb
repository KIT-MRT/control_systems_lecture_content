{
 "cells": [
  {
   "cell_type": "code",
   "execution_count": null,
   "id": "40e59c21-5da0-4490-810e-8a0c687e04aa",
   "metadata": {},
   "outputs": [],
   "source": [
    "using Plots, DSP, ControlSystems, Interpolations, Interact, Printf"
   ]
  },
  {
   "cell_type": "code",
   "execution_count": null,
   "id": "aeca5433-47a4-438d-b261-db5b36f6d928",
   "metadata": {},
   "outputs": [],
   "source": [
    "# Define convolution functionality\n",
    "function DSP.conv(f, g, t0, t1; N=100, cubic=false)\n",
    "    dt = (t1 - t0) / N\n",
    "    t_h, h_ = conv(f, g, t0, t0, dt, t1)\n",
    "    # Select interpolation algorithm\n",
    "    interp = cubic ? cubic_spline_interpolation : linear_interpolation\n",
    "    h = interp(t_h, h_, extrapolation_bc=Line())\n",
    "end\n",
    "\n",
    "function DSP.conv(f, g, t0_f, t0_g, dt, t1)\n",
    "    # Time until which signals have to be computed to get accurate convolution result until t1\n",
    "    # This assumes that signals vanish before t0_f and t0_g, respectively\n",
    "    T = t1 - min(t0_f, t0_g) # can be larger than t1 if t0 < 0\n",
    "    t_f = range(t0_f, step=dt, stop=T)\n",
    "    N1 = length(t_f)\n",
    "    t_g = range(t0_g, step=dt, stop=T)\n",
    "    N2 = length(t_g)\n",
    "    f_ = f.(t_f)\n",
    "    g_ = g.(t_g)\n",
    "    h_ = dt * conv(f_, g_)\n",
    "    t0_h = t0_f + t0_g\n",
    "    # interval on which convolution is correct\n",
    "    # for larger values of t, result can become wrong if input signals have larger support\n",
    "    N = min(N1, N2)\n",
    "    t_h = range(t0_h, step=dt, length=N)\n",
    "    # sanity checks\n",
    "    if t_h[end] + dt < t1\n",
    "        @warn \"Check convolution interval computation\" t_f t_g t_h t1 N1 N2 N\n",
    "    end\n",
    "    @assert length(t_h) == N\n",
    "    t_h, h_[1:N]\n",
    "end"
   ]
  },
  {
   "cell_type": "code",
   "execution_count": null,
   "id": "a45bb547-2589-41e0-840f-6833a0cb9d7a",
   "metadata": {},
   "outputs": [],
   "source": [
    "# plotting script for convolution result\n",
    "function plot_convolution(u, g, y, t, plot_t; ylims=:auto)\n",
    "    u_ = u.(plot_t)\n",
    "    g_ = g.(plot_t)\n",
    "    g_flip = g.(t .- plot_t)\n",
    "    dy = u_ .* g_flip\n",
    "    p0 = plot(1, label=nothing)\n",
    "    plot!(plot_t, g_, label=\"g(τ)\", lw=3)\n",
    "    p1 = plot(plot_t, u_, label=\"u(τ)\", lw=3, ylims=ylims)\n",
    "    plot!(plot_t, g_flip, label=\"g(t-τ)\", lw=3)\n",
    "    plot!(plot_t, dy, fill = (0, 0.5, :limegreen), label=\"u(τ)⋅g(t-τ)\")\n",
    "    p2 = plot(plot_t, y.(plot_t), lw=3, color=:limegreen, label=nothing)\n",
    "    plot!([t], [y(t)], color=:limegreen, marker=(:c, 6), label=\"y(t)=u(t)*g(t)\", lw=3)\n",
    "    plot(p0, p1, p2, size=(600, 600), layout=(3, 1))\n",
    "end"
   ]
  },
  {
   "cell_type": "markdown",
   "id": "a6a73649-2691-4d21-a573-350f6f1550a6",
   "metadata": {},
   "source": [
    "# Define basis signals"
   ]
  },
  {
   "cell_type": "code",
   "execution_count": null,
   "id": "6a31dab4-8d90-478a-b31d-6b48b8baa099",
   "metadata": {},
   "outputs": [],
   "source": [
    "# step function\n",
    "σ(t) = t >= 0 ? 1.0 : 0.0\n",
    "# unit rectangle signal\n",
    "rectangle(t) = σ(t) - σ(t - 1)\n",
    "# triangular shaped signal\n",
    "triangle(t) = max(0., 1. - abs(t))"
   ]
  },
  {
   "cell_type": "code",
   "execution_count": null,
   "id": "c5469a09-8c03-43ed-950c-ed22721a7c6e",
   "metadata": {},
   "outputs": [],
   "source": [
    "# Plot basis signals\n",
    "plot(σ, label=\"step\")\n",
    "plot!(rectangle, label=\"rectangle\")\n",
    "plot!(triangle, label=\"triangle\")"
   ]
  },
  {
   "cell_type": "markdown",
   "id": "a88831ec-9056-4d55-be2f-e8a29b4ff161",
   "metadata": {},
   "source": [
    "Transformation functionality to create more complex signals from basis signals:"
   ]
  },
  {
   "cell_type": "code",
   "execution_count": null,
   "id": "0b75a401-afde-452c-a6d1-6ffa1974b0f6",
   "metadata": {},
   "outputs": [],
   "source": [
    "# shift function by t0\n",
    "shift(t0) = f -> (t -> f(t - t0))\n",
    "# scale function by s_t and s_y on t and y axis\n",
    "scale(s_t, s_y) = f -> (t -> s_y * f(t/s_t))\n",
    "# add two signals\n",
    "add(f, g) = t -> f(t) + g(t)\n",
    "# add vector of functions\n",
    "add(functions) = t -> sum(f(t) for f in functions)"
   ]
  },
  {
   "cell_type": "markdown",
   "id": "93a472c6-ad09-421d-9a50-8bceb161536a",
   "metadata": {},
   "source": [
    "# Exercise 2"
   ]
  },
  {
   "cell_type": "code",
   "execution_count": null,
   "id": "c0fea52a-f5e3-475f-bff4-2ff46703fdf9",
   "metadata": {},
   "outputs": [],
   "source": [
    "# set plotting range\n",
    "t0 = -1\n",
    "t1 = 10\n",
    "dt = 0.01\n",
    "\n",
    "plot_t = t0:dt:t1"
   ]
  },
  {
   "cell_type": "markdown",
   "id": "03886690-017f-4110-9752-a77e461d7517",
   "metadata": {
    "tags": []
   },
   "source": [
    "The same input signal $u$ will be used on multiple systems, which are given by their step response $g$."
   ]
  },
  {
   "cell_type": "code",
   "execution_count": null,
   "id": "a884d654-1312-4f74-93a3-f764ed1c66e9",
   "metadata": {},
   "outputs": [],
   "source": [
    "# scale and shift basis rectangle to obtain u\n",
    "u = rectangle |> scale(3, 1) |> shift(1)\n",
    "plot(u, plot_t, label=\"u(t)\")"
   ]
  },
  {
   "cell_type": "markdown",
   "id": "4410f2b9-e955-49a5-b1cf-f59cce81f41d",
   "metadata": {},
   "source": [
    "Approximate Dirac impulse as narrow, peaked rectangle."
   ]
  },
  {
   "cell_type": "code",
   "execution_count": null,
   "id": "f62b4b34-540d-480e-ad7b-8720870deddd",
   "metadata": {},
   "outputs": [],
   "source": [
    "ϵ = 0.01\n",
    "δ = rectangle |> scale(ϵ, 1/ϵ)\n",
    "δ_shifted = δ |> scale(1, 2.5) |> shift(5)\n",
    "\n",
    "plot(δ, plot_t, label=\"Dirac impulse\")\n",
    "plot!(δ_shifted, plot_t, label=\"Shifted Dirac impulse\")"
   ]
  },
  {
   "cell_type": "markdown",
   "id": "7e15c70f-4334-4497-9b6e-96cf91d8da4e",
   "metadata": {},
   "source": [
    "## Exercise 2.1"
   ]
  },
  {
   "cell_type": "code",
   "execution_count": null,
   "id": "0f52ec93-2f48-40bf-be85-a7f5bdc4c73a",
   "metadata": {},
   "outputs": [],
   "source": [
    "# pulse response is scaled and shifted Dirac impulse\n",
    "g1 = δ |> scale(1, 2.5) |> shift(5)\n",
    "\n",
    "y1 = conv(u, g1, t0, t1, N=10000)\n",
    "@manipulate for t = plot_t\n",
    "    plot_convolution(u, g1, y1, t, plot_t, ylims=(-Inf, 1.5))\n",
    "end"
   ]
  },
  {
   "cell_type": "markdown",
   "id": "497dead2-616e-4ce3-aa21-dad14bf82dfd",
   "metadata": {},
   "source": [
    "## Exercise 2.2"
   ]
  },
  {
   "cell_type": "code",
   "execution_count": null,
   "id": "28d57063-ffd8-4f29-8da0-22bb7d0cd895",
   "metadata": {},
   "outputs": [],
   "source": [
    "# pulse response is sum of two Dirac impulses\n",
    "g2 = add(δ |> scale(1, 2.5) |> shift(4), δ |> scale(1, -0.5) |> shift(2))\n",
    "\n",
    "y2 = conv(u, g2, t0, t1, N=10000)\n",
    "@manipulate for t = plot_t\n",
    "    plot_convolution(u, g2, y2, t, plot_t, ylims=(-0.5, 1.5))\n",
    "end"
   ]
  },
  {
   "cell_type": "markdown",
   "id": "fec8563e-dc33-48c5-bdec-8759ad31ce8d",
   "metadata": {},
   "source": [
    "## Exercise 2.3"
   ]
  },
  {
   "cell_type": "code",
   "execution_count": null,
   "id": "1575d396-424e-4ce4-b15f-744d8a535b41",
   "metadata": {},
   "outputs": [],
   "source": [
    "# pulse response is step function (integrator system)\n",
    "g3 = σ\n",
    "\n",
    "y3 = conv(u, g3, t0, t1)\n",
    "@manipulate for t = plot_t\n",
    "    plot_convolution(u, g3, y3, t, plot_t)\n",
    "end"
   ]
  },
  {
   "cell_type": "markdown",
   "id": "aab2ff8f-47c0-4f59-b6ae-ccf3c0195234",
   "metadata": {},
   "source": [
    "## Exercise 2.4"
   ]
  },
  {
   "cell_type": "code",
   "execution_count": null,
   "id": "c965c168-f55f-4960-ba8d-1c997a03e7b9",
   "metadata": {},
   "outputs": [],
   "source": [
    "# pulse response is sum of two rectangles\n",
    "g4 = add(rectangle |> scale(1, 2) |> shift(1), rectangle |> scale(1, 1) |> shift(2))\n",
    "\n",
    "y4 = conv(u, g4, t0, t1)\n",
    "@manipulate for t = plot_t\n",
    "    plot_convolution(u, g4, y4, t, plot_t)\n",
    "end"
   ]
  },
  {
   "cell_type": "markdown",
   "id": "3ed63e12-c306-476b-a843-2848c1a8f8af",
   "metadata": {},
   "source": [
    "## Exercise 2.5"
   ]
  },
  {
   "cell_type": "code",
   "execution_count": null,
   "id": "099394d5-f8fb-41d4-8a73-cd9fc8becc55",
   "metadata": {},
   "outputs": [],
   "source": [
    "# pulse response is PT1 system (low pass filter)\n",
    "g5(t) = 2 * exp(-t) * σ(t)\n",
    "\n",
    "y5 = conv(u, g5, t0, t1)\n",
    "@manipulate for t = plot_t\n",
    "    plot_convolution(u, g5, y5, t, plot_t, ylims=(-Inf, 2.2))\n",
    "end"
   ]
  }
 ],
 "metadata": {
  "@webio": {
   "lastCommId": null,
   "lastKernelId": null
  },
  "kernelspec": {
   "display_name": "Julia 1.8.1",
   "language": "julia",
   "name": "julia-1.8"
  },
  "language_info": {
   "file_extension": ".jl",
   "mimetype": "application/julia",
   "name": "julia",
   "version": "1.8.1"
  }
 },
 "nbformat": 4,
 "nbformat_minor": 5
}
