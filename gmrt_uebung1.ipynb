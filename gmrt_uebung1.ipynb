{
 "cells": [
  {
   "cell_type": "code",
   "execution_count": null,
   "id": "40e59c21-5da0-4490-810e-8a0c687e04aa",
   "metadata": {},
   "outputs": [],
   "source": [
    "using Plots, DSP, ControlSystems, Interpolations, Interact, Printf"
   ]
  },
  {
   "cell_type": "code",
   "execution_count": null,
   "id": "aeca5433-47a4-438d-b261-db5b36f6d928",
   "metadata": {},
   "outputs": [],
   "source": [
    "# Definiere Faltungsfunktionalität\n",
    "function DSP.conv(f, g, t0, t1; N=100, cubic=false)\n",
    "    dt = (t1 - t0) / N\n",
    "    t_h, h_ = conv(f, g, t0, t0, dt, t1)\n",
    "    # Wähle Interpolationsmethode\n",
    "    interp = cubic ? cubic_spline_interpolation : linear_interpolation\n",
    "    h = interp(t_h, h_, extrapolation_bc=Line())\n",
    "end\n",
    "\n",
    "function DSP.conv(f, g, t0_f, t0_g, dt, t1)\n",
    "    # Zeit bis zu der Signals berechnet werden müssen um korrektes Faltungsergebnis bis t1 zu erhalten\n",
    "    # Hierbei wird angenommen, dass Signale vor t0_f bzw. t0_g verschwinden\n",
    "    T = t1 - min(t0_f, t0_g) # kann für t0 < 0 größer als t1 werden\n",
    "    t_f = range(t0_f, step=dt, stop=T)\n",
    "    N1 = length(t_f)\n",
    "    t_g = range(t0_g, step=dt, stop=T)\n",
    "    N2 = length(t_g)\n",
    "    f_ = f.(t_f)\n",
    "    g_ = g.(t_g)\n",
    "    h_ = dt * conv(f_, g_)\n",
    "    t0_h = t0_f + t0_g\n",
    "    # Interval auf dem die Faltung korrekt ist\n",
    "    # for größere Werte von t kann das Ergebnis falsch werden, wenn die Eingangssignale nicht verschwinden\n",
    "    N = min(N1, N2)\n",
    "    t_h = range(t0_h, step=dt, length=N)\n",
    "    # sanity checks\n",
    "    if t_h[end] + dt < t1\n",
    "        @warn \"Check convolution interval computation\" t_f t_g t_h t1 N1 N2 N\n",
    "    end\n",
    "    @assert length(t_h) == N\n",
    "    t_h, h_[1:N]\n",
    "end"
   ]
  },
  {
   "cell_type": "code",
   "execution_count": null,
   "id": "a45bb547-2589-41e0-840f-6833a0cb9d7a",
   "metadata": {},
   "outputs": [],
   "source": [
    "# Visualisierungsskript für Ergebnis der Faltung\n",
    "function plot_convolution(u, g, y, t, plot_t; ylims=:auto)\n",
    "    u_ = u.(plot_t)\n",
    "    g_ = g.(plot_t)\n",
    "    g_flip = g.(t .- plot_t)\n",
    "    dy = u_ .* g_flip\n",
    "    p0 = plot(1, label=nothing)\n",
    "    plot!(plot_t, g_, label=\"g(τ)\", lw=3)\n",
    "    p1 = plot(plot_t, u_, label=\"u(τ)\", lw=3, ylims=ylims)\n",
    "    plot!(plot_t, g_flip, label=\"g(t-τ)\", lw=3)\n",
    "    plot!(plot_t, dy, fill = (0, 0.5, :limegreen), label=\"u(τ)⋅g(t-τ)\")\n",
    "    p2 = plot(plot_t, y.(plot_t), lw=3, color=:limegreen, label=nothing)\n",
    "    plot!([t], [y(t)], color=:limegreen, marker=(:c, 6), label=\"y(t)=u(t)*g(t)\", lw=3)\n",
    "    plot(p0, p1, p2, size=(600, 600), layout=(3, 1))\n",
    "end"
   ]
  },
  {
   "cell_type": "markdown",
   "id": "895089ea",
   "metadata": {},
   "source": [
    "# Definiere Basissignale"
   ]
  },
  {
   "cell_type": "code",
   "execution_count": null,
   "id": "6a31dab4-8d90-478a-b31d-6b48b8baa099",
   "metadata": {},
   "outputs": [],
   "source": [
    "# Sprungfunktion\n",
    "σ(t) = t >= 0 ? 1.0 : 0.0\n",
    "# Einheitsrechteckssignal\n",
    "rectangle(t) = σ(t) - σ(t - 1)\n",
    "# Dreieckssignal\n",
    "triangle(t) = max(0., 1. - abs(t))"
   ]
  },
  {
   "cell_type": "code",
   "execution_count": null,
   "id": "c5469a09-8c03-43ed-950c-ed22721a7c6e",
   "metadata": {},
   "outputs": [],
   "source": [
    "# Plot der Basissignale\n",
    "plot(σ, label=\"Sprung\")\n",
    "plot!(rectangle, label=\"Rechteck\")\n",
    "plot!(triangle, label=\"Dreieck\")"
   ]
  },
  {
   "cell_type": "markdown",
   "id": "26d16f68",
   "metadata": {},
   "source": [
    "Transformationen um komplexe Signale aus Basissignalen zu erstellen:"
   ]
  },
  {
   "cell_type": "code",
   "execution_count": null,
   "id": "0b75a401-afde-452c-a6d1-6ffa1974b0f6",
   "metadata": {},
   "outputs": [],
   "source": [
    "# Verschiebe Signal um t0\n",
    "shift(t0) = f -> (t -> f(t - t0))\n",
    "# Skaliere Signal um s_t und s_y auf t bzw y Achse\n",
    "scale(s_t, s_y) = f -> (t -> s_y * f(t/s_t))\n",
    "# Addiere zwei Signale\n",
    "add(f, g) = t -> f(t) + g(t)\n",
    "# Addiere Vektor von Signalen\n",
    "add(functions) = t -> sum(f(t) for f in functions)"
   ]
  },
  {
   "cell_type": "markdown",
   "id": "93a472c6-ad09-421d-9a50-8bceb161536a",
   "metadata": {},
   "source": [
    "# Aufgabe 2"
   ]
  },
  {
   "cell_type": "code",
   "execution_count": null,
   "id": "c0fea52a-f5e3-475f-bff4-2ff46703fdf9",
   "metadata": {},
   "outputs": [],
   "source": [
    "# Wähle Darstellungsbereich\n",
    "t0 = -1\n",
    "t1 = 10\n",
    "dt = 0.01\n",
    "\n",
    "plot_t = t0:dt:t1"
   ]
  },
  {
   "cell_type": "markdown",
   "id": "03886690-017f-4110-9752-a77e461d7517",
   "metadata": {
    "tags": []
   },
   "source": [
    "Das gleiche Eingangssignal $u$ wird auf mehrere Systeme angewandt, die durch ihre Sprungantwort $g$ gegeben sind."
   ]
  },
  {
   "cell_type": "code",
   "execution_count": null,
   "id": "a884d654-1312-4f74-93a3-f764ed1c66e9",
   "metadata": {},
   "outputs": [],
   "source": [
    "# Skaliere und verschiebe Basisrecheck um u zu erhalten\n",
    "u = rectangle |> scale(3, 1) |> shift(1)\n",
    "plot(u, plot_t, label=\"u(t)\")"
   ]
  },
  {
   "cell_type": "markdown",
   "id": "4410f2b9-e955-49a5-b1cf-f59cce81f41d",
   "metadata": {},
   "source": [
    "Approximiere Diracimpuls als schmales, hohes Recheck."
   ]
  },
  {
   "cell_type": "code",
   "execution_count": null,
   "id": "f62b4b34-540d-480e-ad7b-8720870deddd",
   "metadata": {},
   "outputs": [],
   "source": [
    "ϵ = 0.01\n",
    "δ = rectangle |> scale(ϵ, 1/ϵ)\n",
    "δ_shifted = δ |> scale(1, 2.5) |> shift(5)\n",
    "\n",
    "plot(δ, plot_t, label=\"Diracimpuls\")\n",
    "plot!(δ_shifted, plot_t, label=\"Verschobener Diracimpuls\")"
   ]
  },
  {
   "cell_type": "markdown",
   "id": "7e15c70f-4334-4497-9b6e-96cf91d8da4e",
   "metadata": {},
   "source": [
    "## Aufgabe 2.1"
   ]
  },
  {
   "cell_type": "code",
   "execution_count": null,
   "id": "0f52ec93-2f48-40bf-be85-a7f5bdc4c73a",
   "metadata": {},
   "outputs": [],
   "source": [
    "# Impulsantwort ist skalierte und verschobener Diracimpuls\n",
    "g1 = δ |> scale(1, 2.5) |> shift(5)\n",
    "\n",
    "y1 = conv(u, g1, t0, t1, N=10000)\n",
    "@manipulate for t = plot_t\n",
    "    plot_convolution(u, g1, y1, t, plot_t, ylims=(-Inf, 1.5))\n",
    "end"
   ]
  },
  {
   "cell_type": "markdown",
   "id": "497dead2-616e-4ce3-aa21-dad14bf82dfd",
   "metadata": {},
   "source": [
    "## Aufgabe 2.2"
   ]
  },
  {
   "cell_type": "code",
   "execution_count": null,
   "id": "28d57063-ffd8-4f29-8da0-22bb7d0cd895",
   "metadata": {},
   "outputs": [],
   "source": [
    "# Impulsantwort ist Summe zweier Diracimpulse\n",
    "g2 = add(δ |> scale(1, 2.5) |> shift(4), δ |> scale(1, -0.5) |> shift(2))\n",
    "\n",
    "y2 = conv(u, g2, t0, t1, N=10000)\n",
    "@manipulate for t = plot_t\n",
    "    plot_convolution(u, g2, y2, t, plot_t, ylims=(-0.5, 1.5))\n",
    "end"
   ]
  },
  {
   "cell_type": "markdown",
   "id": "fec8563e-dc33-48c5-bdec-8759ad31ce8d",
   "metadata": {},
   "source": [
    "## Aufgabe 2.3"
   ]
  },
  {
   "cell_type": "code",
   "execution_count": null,
   "id": "1575d396-424e-4ce4-b15f-744d8a535b41",
   "metadata": {},
   "outputs": [],
   "source": [
    "# Impulsantwort ist Sprungfunktion (System ist ein Integrator)\n",
    "g3 = σ\n",
    "\n",
    "y3 = conv(u, g3, t0, t1)\n",
    "@manipulate for t = plot_t\n",
    "    plot_convolution(u, g3, y3, t, plot_t)\n",
    "end"
   ]
  },
  {
   "cell_type": "markdown",
   "id": "aab2ff8f-47c0-4f59-b6ae-ccf3c0195234",
   "metadata": {},
   "source": [
    "## Aufgabe 2.4"
   ]
  },
  {
   "cell_type": "code",
   "execution_count": null,
   "id": "c965c168-f55f-4960-ba8d-1c997a03e7b9",
   "metadata": {},
   "outputs": [],
   "source": [
    "# Impulsantwort ist Summe zweier Rechtecksignale\n",
    "g4 = add(rectangle |> scale(1, 2) |> shift(1), rectangle |> scale(1, 1) |> shift(2))\n",
    "\n",
    "y4 = conv(u, g4, t0, t1)\n",
    "@manipulate for t = plot_t\n",
    "    plot_convolution(u, g4, y4, t, plot_t)\n",
    "end"
   ]
  },
  {
   "cell_type": "markdown",
   "id": "3ed63e12-c306-476b-a843-2848c1a8f8af",
   "metadata": {},
   "source": [
    "## Aufgabe 2.5"
   ]
  },
  {
   "cell_type": "code",
   "execution_count": null,
   "id": "099394d5-f8fb-41d4-8a73-cd9fc8becc55",
   "metadata": {},
   "outputs": [],
   "source": [
    "# Impulsantwort ist PT1 System (Tiefpassfilter)\n",
    "g5(t) = 2 * exp(-t) * σ(t)\n",
    "\n",
    "y5 = conv(u, g5, t0, t1)\n",
    "@manipulate for t = plot_t\n",
    "    plot_convolution(u, g5, y5, t, plot_t, ylims=(-Inf, 2.2))\n",
    "end"
   ]
  }
 ],
 "metadata": {
  "@webio": {
   "lastCommId": null,
   "lastKernelId": null
  },
  "kernelspec": {
   "display_name": "Julia 1.8.5",
   "language": "julia",
   "name": "julia-1.8"
  },
  "language_info": {
   "file_extension": ".jl",
   "mimetype": "application/julia",
   "name": "julia",
   "version": "1.8.5"
  }
 },
 "nbformat": 4,
 "nbformat_minor": 5
}
