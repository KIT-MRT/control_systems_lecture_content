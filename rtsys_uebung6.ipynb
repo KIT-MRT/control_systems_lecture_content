{
 "cells": [
  {
   "cell_type": "code",
   "execution_count": null,
   "id": "fd3a21c3-a7c6-4b24-bf18-18d3faea04e2",
   "metadata": {},
   "outputs": [],
   "source": [
    "using ControlSystems\n",
    "using LinearAlgebra\n",
    "using Plots\n",
    "using Interact\n",
    "using Printf"
   ]
  },
  {
   "cell_type": "markdown",
   "id": "409e2e9e-5cc6-4720-ae94-4a2a270696b2",
   "metadata": {},
   "source": [
    "# Bioreaktor mit PID-Regler"
   ]
  },
  {
   "cell_type": "markdown",
   "id": "a6da2eb7-cafd-4b9b-9998-7a38b8b39f9b",
   "metadata": {},
   "source": [
    "Zustandsraumdarstellung des Bioreaktors von Übungsblatt 5:"
   ]
  },
  {
   "cell_type": "code",
   "execution_count": null,
   "id": "a70d428e-3188-4495-b509-9f06c1d53923",
   "metadata": {},
   "outputs": [],
   "source": [
    "A = [-0.1 0.008\n",
    "     -0.6 0.0  ]\n",
    "b = [-0.01, 0.1]\n",
    "c = [1 0]\n",
    "d = 0\n",
    "plant = ss(A, b, c, d)"
   ]
  },
  {
   "cell_type": "code",
   "execution_count": null,
   "id": "11d21361-2c24-402a-96b5-e0196aacfa6b",
   "metadata": {},
   "outputs": [],
   "source": [
    "plot(step(plant), label=\"Sprungantwort der Strecke\", legend=:bottomright)"
   ]
  },
  {
   "cell_type": "markdown",
   "id": "f4705879-78b1-4723-bbfa-c4303b7613cc",
   "metadata": {},
   "source": [
    "PID-Regler nach Ziegler-Nichols (s. Übung 5):\n",
    "\n",
    "[Transfer function (Übertragungsfunktion) ist eine Repräsentation von LTI-Systemen im Frequenzbereich (kein Gegenstand von Regelungstechnik und Systemdynamik)]"
   ]
  },
  {
   "cell_type": "code",
   "execution_count": null,
   "id": "75ee75af-6231-4a93-a88e-aa0c74beae1f",
   "metadata": {},
   "outputs": [],
   "source": [
    "kp = 6\n",
    "T_I = 27.778\n",
    "T_D = 6.667\n",
    "\n",
    "controller = pid(kp=kp, ki=T_I, kd=T_D, time=true, series=true)"
   ]
  },
  {
   "cell_type": "code",
   "execution_count": null,
   "id": "8d55e014-d1c4-4721-adb2-0a7bc53163d7",
   "metadata": {},
   "outputs": [],
   "source": [
    "# Multipliziere System und Regler für Hintereinanderschaltung\n",
    "controlled_sys = tf(plant) * controller\n",
    "# Berechne Sprungantwort des geschlossenen Regelkreises\n",
    "pid_solution = step(feedback(controlled_sys))\n",
    "plot(pid_solution, label=\"PID Regler\", legend=:bottomright)\n",
    "plot!(t -> 1, label=\"σ(t)\")"
   ]
  },
  {
   "cell_type": "markdown",
   "id": "3d07b91a-238b-4c38-bf3a-713972011e45",
   "metadata": {},
   "source": [
    "# Aufgabe 1"
   ]
  },
  {
   "cell_type": "markdown",
   "id": "0e38ac4d-94a5-4de8-a1f0-1a0b04569e5f",
   "metadata": {},
   "source": [
    "Der Sensor (PT1-Glied) wird in Zustandsraumdarstellung definiert."
   ]
  },
  {
   "cell_type": "code",
   "execution_count": null,
   "id": "9202c6e5-720d-4cc2-bdc2-ed09986c9beb",
   "metadata": {},
   "outputs": [],
   "source": [
    "T = 1 / log(√2)\n",
    "# Wahre statische Verstärkung des Sensors\n",
    "K = 5\n",
    "sensor = ss(-1/T, K/T,1,0)"
   ]
  },
  {
   "cell_type": "markdown",
   "id": "bfe29b73-0e7d-47ae-aa56-4b9f09af7228",
   "metadata": {},
   "source": [
    "Sprungantwort des Sensors (PT1-Verhalten):"
   ]
  },
  {
   "cell_type": "code",
   "execution_count": null,
   "id": "24c874af-aefa-44d9-b80b-3ce6416d0f33",
   "metadata": {},
   "outputs": [],
   "source": [
    "plot(step(sensor), xlim=(0, 10), ylim=(0, 7), label=\"Sensor\")\n",
    "plot!(t -> K, label=false)\n",
    "plot!(t -> K/T * t, label=false)"
   ]
  },
  {
   "cell_type": "markdown",
   "id": "9c8d6503-7fdd-415c-9a65-d84cf9ab1199",
   "metadata": {},
   "source": [
    "Der geschlossene Regelkreises (jetzt inklusive PT1-Messelement) ist instabil:"
   ]
  },
  {
   "cell_type": "code",
   "execution_count": null,
   "id": "beeb43fc-5a76-4a1d-a899-46674b80d359",
   "metadata": {},
   "outputs": [],
   "source": [
    "measured_sys = controlled_sys * sensor\n",
    "plot(step(feedback(measured_sys), 100), label=\"Mit PT1 Messung\")"
   ]
  },
  {
   "cell_type": "markdown",
   "id": "faf24050-b2ff-4f85-88c7-96e6e70b7ff8",
   "metadata": {},
   "source": [
    "## Aufgabe 1.1"
   ]
  },
  {
   "cell_type": "markdown",
   "id": "520c3dd4-8a5b-49b4-b015-9a232ede35f6",
   "metadata": {},
   "source": [
    "Messwerte der Sprungantwort:"
   ]
  },
  {
   "cell_type": "code",
   "execution_count": null,
   "id": "0284bcf1-9cd9-41ca-994b-fd539a313e42",
   "metadata": {},
   "outputs": [],
   "source": [
    "t̂ = [2, 4, 6]"
   ]
  },
  {
   "cell_type": "code",
   "execution_count": null,
   "id": "812ac824-3de9-46e3-8eb5-904dc4d91131",
   "metadata": {},
   "outputs": [],
   "source": [
    "v̂ = [2.5, 3.75, 4]"
   ]
  },
  {
   "cell_type": "code",
   "execution_count": null,
   "id": "7ba09516-4f8a-4f6e-9272-d93650b37b2c",
   "metadata": {},
   "outputs": [],
   "source": [
    "@manipulate for K_ = 0:0.01:8\n",
    "    p = scatter(t̂, v̂, label=\"Messungen\", xlim=(0, 10), ylim=(0,5))\n",
    "    # PT1 Sprungantwort\n",
    "    g_σ(t) = K_ * (1 - exp(-t / T))\n",
    "    # Werte ohne Messunsicherheit\n",
    "    v = g_σ.(t̂)\n",
    "    plot!(g_σ, label=\"PT1 Sprungantwort\", c=:green)\n",
    "    plot!([t̂ t̂]',[v̂ v]', label=[\"Residuum\" false false], c=:red)\n",
    "    ê = v̂ - v\n",
    "    hbox(@sprintf(\"Residuum |ê| = %.2f\", norm(ê)), hskip(5em), p)\n",
    "end"
   ]
  },
  {
   "cell_type": "markdown",
   "id": "f4557140-cec3-47cc-b74c-f01a9e2f778e",
   "metadata": {},
   "source": [
    "Aufstellen der Messmatrix aus PT1-Sprungantwort:"
   ]
  },
  {
   "cell_type": "code",
   "execution_count": null,
   "id": "34c3cda8-12df-4444-a111-f7a7682c9376",
   "metadata": {},
   "outputs": [],
   "source": [
    "H = 1 .- exp.(-t̂ / T)"
   ]
  },
  {
   "cell_type": "markdown",
   "id": "f7ae2f2c-ff9d-49f8-8242-3f091ef3a88a",
   "metadata": {},
   "source": [
    "## Aufgabe 1.2"
   ]
  },
  {
   "cell_type": "markdown",
   "id": "d5da9288-d718-4790-82bb-c5e698734b4d",
   "metadata": {},
   "source": [
    "Bestimme die Pseudoinverse von H:"
   ]
  },
  {
   "cell_type": "code",
   "execution_count": null,
   "id": "874cee19-4a38-4580-ad34-62d6d233d719",
   "metadata": {},
   "outputs": [],
   "source": [
    "# H' is die transponierte von H\n",
    "H_pinv = inv(H' * H) * H'"
   ]
  },
  {
   "cell_type": "markdown",
   "id": "2fcae16d-b347-4e3a-ae54-85a0c12c8667",
   "metadata": {},
   "source": [
    "Lösen des least squares Problems nach Parameter $\\hat{K}$:"
   ]
  },
  {
   "cell_type": "code",
   "execution_count": null,
   "id": "bc04ce7d-8fc9-4ff8-92d4-94d3c1328241",
   "metadata": {},
   "outputs": [],
   "source": [
    "K̂ = H_pinv * v̂"
   ]
  },
  {
   "cell_type": "markdown",
   "id": "4f75c831-b305-44a4-8f6b-fbbfd6f64b72",
   "metadata": {},
   "source": [
    "Der backslash-operator '\\\\' kann genutzt werden um das Gleichungssystem zu lösen anstatt die Inverse zu berechnen:"
   ]
  },
  {
   "cell_type": "code",
   "execution_count": null,
   "id": "23d54e7d-71b0-43bc-a82c-24bde1d2b412",
   "metadata": {},
   "outputs": [],
   "source": [
    "(H' * H) \\ (H' * v̂)"
   ]
  },
  {
   "cell_type": "markdown",
   "id": "0c8cb6b3-44ad-4211-ba64-32ddeabe918a",
   "metadata": {},
   "source": [
    "Der backslash-operator löst auch direkt das least squares Problem:"
   ]
  },
  {
   "cell_type": "code",
   "execution_count": null,
   "id": "a9f20fc0-86fd-4db4-b12b-47cab8e9e1c7",
   "metadata": {},
   "outputs": [],
   "source": [
    "H \\ v̂"
   ]
  },
  {
   "cell_type": "markdown",
   "id": "b654a878-d47c-44e4-97ba-20636dee2766",
   "metadata": {},
   "source": [
    "## Aufgabe 1.3"
   ]
  },
  {
   "cell_type": "markdown",
   "id": "5595dddd-0bf2-4529-91f1-79bdbcbe679e",
   "metadata": {},
   "source": [
    "Unsicherheit der Messungen"
   ]
  },
  {
   "cell_type": "code",
   "execution_count": null,
   "id": "ab56f29c-5323-469c-8456-057f7e8c409f",
   "metadata": {},
   "outputs": [],
   "source": [
    "σ = √0.3"
   ]
  },
  {
   "cell_type": "markdown",
   "id": "32695108-e9ae-4841-9dab-c16b20edb8ba",
   "metadata": {},
   "source": [
    "Unsicherheit der Schätzung von $\\hat{K}$"
   ]
  },
  {
   "cell_type": "code",
   "execution_count": null,
   "id": "25a8116d-7ca5-481f-b07a-8d43a6e4156f",
   "metadata": {},
   "outputs": [],
   "source": [
    "σ_K = √(σ^2 * inv(H' * H))"
   ]
  },
  {
   "cell_type": "markdown",
   "id": "a3e6f2fa-882b-4708-b662-7180ebdb6bfb",
   "metadata": {},
   "source": [
    "## Aufgabe 1.4"
   ]
  },
  {
   "cell_type": "markdown",
   "id": "387ab3c3-26e8-41c9-92fb-99a56c1ad068",
   "metadata": {},
   "source": [
    "Residuum:"
   ]
  },
  {
   "cell_type": "code",
   "execution_count": null,
   "id": "f59da00b-14bb-4d40-b7d8-7e7dd7ad4cd2",
   "metadata": {},
   "outputs": [],
   "source": [
    "ê = v̂ - H * K̂"
   ]
  },
  {
   "cell_type": "markdown",
   "id": "edd9f28c-089b-4e82-8803-17e650088046",
   "metadata": {},
   "source": [
    "Teste Modellgüte durch Vergleich von Residuennorm mit erwarteten Residuen"
   ]
  },
  {
   "cell_type": "code",
   "execution_count": null,
   "id": "b4d88b75-5d0c-44f6-97e1-7b1bc55d021f",
   "metadata": {},
   "outputs": [],
   "source": [
    "n, m = length(v̂), length(K̂)"
   ]
  },
  {
   "cell_type": "markdown",
   "id": "410dda3c-56d8-4eff-81c7-4905c672272d",
   "metadata": {},
   "source": [
    "Quadrierte Residuennorm"
   ]
  },
  {
   "cell_type": "code",
   "execution_count": null,
   "id": "68f1d20d-b0ec-4918-b859-d5b06203b3a9",
   "metadata": {},
   "outputs": [],
   "source": [
    "residual_norm = dot(ê, ê)"
   ]
  },
  {
   "cell_type": "markdown",
   "id": "857a0917-dcdc-4fc0-b01d-a9038d64ab4b",
   "metadata": {},
   "source": [
    "Erwartete Residuen"
   ]
  },
  {
   "cell_type": "code",
   "execution_count": null,
   "id": "42b8501d-da63-4811-8165-c30d2df5e1bc",
   "metadata": {},
   "outputs": [],
   "source": [
    "expected_residual_norm = (n - m) * σ^2"
   ]
  },
  {
   "cell_type": "code",
   "execution_count": null,
   "id": "d2914117-5859-408c-a9a6-99147e3654c4",
   "metadata": {},
   "outputs": [],
   "source": [
    "residual_norm < 10 * expected_residual_norm ? \"Modellgüte ausreichend!\" : \"Modellgüte nicht ausreichend!\""
   ]
  },
  {
   "cell_type": "markdown",
   "id": "746903ba-d446-49b1-b78b-b0e8c87f2c75",
   "metadata": {},
   "source": [
    "## Kompensation der Zeitverzögerung"
   ]
  },
  {
   "cell_type": "markdown",
   "id": "aca9e09f-b27f-4307-bbbc-954800d2913c",
   "metadata": {},
   "source": [
    "Ist ein Schätzwert für die Verstärkung $\\hat{K}$ bekannt, kann eine proportionale Kompensation genutzt werden:"
   ]
  },
  {
   "cell_type": "code",
   "execution_count": null,
   "id": "832e708c-f5d9-47bb-b5f8-36f2843718b6",
   "metadata": {},
   "outputs": [],
   "source": [
    "compensation = 1 / K̂\n",
    "plot(step(feedback(measured_sys * compensation), 150), label=\"Mit P Kompensation\", legend=:bottomright)\n",
    "plot!(pid_solution, label=\"Perfekte Messung\")\n",
    "plot!(t -> 1, label=\"σ(t)\")"
   ]
  },
  {
   "cell_type": "markdown",
   "id": "8a1a7ca1-4487-4715-a2ed-acbff3423089",
   "metadata": {},
   "source": [
    "Ist darüberhinaus die Zeitkonstante bekannt, kann ein PDT1-Glied zusätzlich die Zeitkonstante verringern. Die Kompensation genügt der DGL $$T_c\\dot{y} + y = \\frac{1}{K} (T\\dot{u} + u)$$ und verringert die Zeitkonstante von $T$ zu $T_c$."
   ]
  },
  {
   "cell_type": "code",
   "execution_count": null,
   "id": "54b0de61-f900-45d2-8700-d3b2537ac8bc",
   "metadata": {},
   "outputs": [],
   "source": [
    "T_c = 0.1 * T\n",
    "# Definition des PDT1-Glieds im Frequenzbereich als Übertragungsfunktion (nicht Teil der RtSys Vorlesung), äquivalant zu obiger DGL\n",
    "compensation = 1/K̂ * tf([T,1],[T_c,1])\n",
    "# Transformation in Zustandsraumdarstellung\n",
    "ss(compensation)"
   ]
  },
  {
   "cell_type": "code",
   "execution_count": null,
   "id": "6132818c-97e0-4493-a48f-e005d8a7b8ad",
   "metadata": {},
   "outputs": [],
   "source": [
    "@manipulate for k_c = 0.01:0.01:1\n",
    "    T_c = k_c * T\n",
    "    compensation = 1/K̂ * tf([T,1],[T_c,1])\n",
    "    plot(step(feedback(measured_sys * compensation), 150), label=\"Mit Kompensation\", legend=:bottomright, ylim=[-0.8, 1.5])\n",
    "    plot!(pid_solution, label=\"Perfekte Messung\")\n",
    "    plot!(t -> 1, label=\"σ(t)\")\n",
    "end"
   ]
  },
  {
   "cell_type": "markdown",
   "id": "24e34242-69e5-4c23-ba18-b42133aa5532",
   "metadata": {},
   "source": [
    "# Aufgabe 2"
   ]
  },
  {
   "cell_type": "code",
   "execution_count": null,
   "id": "6cd76b3e-5b9d-4504-82a5-f1617717ef4a",
   "metadata": {},
   "outputs": [],
   "source": [
    "t̂ = [1, 2, 3, 4, 5]"
   ]
  },
  {
   "cell_type": "code",
   "execution_count": null,
   "id": "d4a5bc1b-98e6-45f1-97af-22ae39efdd85",
   "metadata": {},
   "outputs": [],
   "source": [
    "v̂ = [2, 4, 2, 5, 1]"
   ]
  },
  {
   "cell_type": "code",
   "execution_count": null,
   "id": "017c2a00-2c15-4fc2-88f4-db3be1465611",
   "metadata": {},
   "outputs": [],
   "source": [
    "scatter(t̂, v̂, label=\"Messungen\", legend=:topleft)"
   ]
  },
  {
   "cell_type": "code",
   "execution_count": null,
   "id": "beeabfb1-73b2-449d-b22a-7660a21302cf",
   "metadata": {},
   "outputs": [],
   "source": [
    "γ(t) = t == 0"
   ]
  },
  {
   "cell_type": "markdown",
   "id": "d4cd687a-1983-4bbe-9d3d-d50a0829e879",
   "metadata": {},
   "source": [
    "## Aufgabe 2.1"
   ]
  },
  {
   "cell_type": "markdown",
   "id": "16df0554-d6aa-4c91-a471-04ae9464d1d4",
   "metadata": {},
   "source": [
    "Definiere Messmatrix $H$ mit Parametern Nutzsignal $u$ und Messfehler $h_1$"
   ]
  },
  {
   "cell_type": "code",
   "execution_count": null,
   "id": "f71a78c4-a1c5-4724-8195-c82311298f26",
   "metadata": {},
   "outputs": [],
   "source": [
    "c1 = ones(length(t̂))"
   ]
  },
  {
   "cell_type": "code",
   "execution_count": null,
   "id": "d54c2b82-7abb-4a98-b63e-8eb659198a9e",
   "metadata": {},
   "outputs": [],
   "source": [
    "c2 = γ.(t̂ .- 2)"
   ]
  },
  {
   "cell_type": "code",
   "execution_count": null,
   "id": "89033132-51a8-42dd-ab94-2946decc0586",
   "metadata": {},
   "outputs": [],
   "source": [
    "H1 = [c1 c2]"
   ]
  },
  {
   "cell_type": "markdown",
   "id": "86337726-5c18-4fe4-b210-0718c461ed32",
   "metadata": {},
   "source": [
    "Löse least squares Problem"
   ]
  },
  {
   "cell_type": "code",
   "execution_count": null,
   "id": "031ef39a-dd4f-4c89-b99f-12cb539e7c3e",
   "metadata": {},
   "outputs": [],
   "source": [
    "û, ĥ1 = H1 \\ v̂"
   ]
  },
  {
   "cell_type": "code",
   "execution_count": null,
   "id": "9fb8fbe1-b902-4005-8292-02bac34c3dd1",
   "metadata": {},
   "outputs": [],
   "source": [
    "plot!(1:0.01:5, t -> û + ĥ1 * γ(t-2), label=\"Least squares mit p1\")"
   ]
  },
  {
   "cell_type": "markdown",
   "id": "11cb5509-6a19-4c3e-9a92-3c6ffd66c102",
   "metadata": {},
   "source": [
    "## Aufgabe 2.2"
   ]
  },
  {
   "cell_type": "markdown",
   "id": "23858f1b-a06a-45e9-93ab-981c89dbcf36",
   "metadata": {},
   "source": [
    "Definiere Messmatrix $H$ mit Parametern Nutzsignal $u$ und Messfehlern $h_1, h_2$"
   ]
  },
  {
   "cell_type": "code",
   "execution_count": null,
   "id": "0949180b-78d5-4f39-9b37-4c40c725f760",
   "metadata": {},
   "outputs": [],
   "source": [
    "c3 = γ.(t̂ .- 4)"
   ]
  },
  {
   "cell_type": "code",
   "execution_count": null,
   "id": "a3328cc6-cede-44ff-bbd0-1d778213cc96",
   "metadata": {},
   "outputs": [],
   "source": [
    "H2 = [H1 c3]"
   ]
  },
  {
   "cell_type": "markdown",
   "id": "63426052-de75-4abf-84e7-99ded048800d",
   "metadata": {},
   "source": [
    "Löse least squares Problem"
   ]
  },
  {
   "cell_type": "code",
   "execution_count": null,
   "id": "f4043a32-1933-4932-b394-79cf132508b4",
   "metadata": {},
   "outputs": [],
   "source": [
    "û, ĥ1, ĥ2 = H2 \\ v̂"
   ]
  },
  {
   "cell_type": "code",
   "execution_count": null,
   "id": "0ac94ddc-f306-43ad-82ac-f5ef098e38b1",
   "metadata": {},
   "outputs": [],
   "source": [
    "plot!(1:0.01:5, t -> û + ĥ1 * γ(t-2) + ĥ2 * γ(t-4), label=\"Least squares mit p1,p2\")"
   ]
  },
  {
   "cell_type": "markdown",
   "id": "b40366d8",
   "metadata": {},
   "source": [
    "Der Messfehler bei $t=4$ hat die least squares Lösung stark beeinflusst."
   ]
  }
 ],
 "metadata": {
  "@webio": {
   "lastCommId": null,
   "lastKernelId": null
  },
  "kernelspec": {
   "display_name": "Julia 1.7.3",
   "language": "julia",
   "name": "julia-1.7"
  },
  "language_info": {
   "file_extension": ".jl",
   "mimetype": "application/julia",
   "name": "julia",
   "version": "1.7.3"
  }
 },
 "nbformat": 4,
 "nbformat_minor": 5
}
