{
 "cells": [
  {
   "cell_type": "code",
   "execution_count": null,
   "id": "1d6f5abf-cc1d-48df-b4ce-f2587c1b18ad",
   "metadata": {},
   "outputs": [],
   "source": [
    "using LinearAlgebra\n",
    "using ControlSystems\n",
    "using ModelingToolkit\n",
    "using DifferentialEquations\n",
    "using NonlinearSolve\n",
    "using Plots\n",
    "using Interact\n",
    "using Printf"
   ]
  },
  {
   "cell_type": "markdown",
   "id": "c7ff87ec-a42a-4b69-9a96-50793b9c669e",
   "metadata": {},
   "source": [
    "# Exercise 1.1"
   ]
  },
  {
   "cell_type": "markdown",
   "id": "fe8364be-0814-42ec-84f5-c36d32032a6b",
   "metadata": {},
   "source": [
    "Set up system differential equation with symbolic variables and parameters."
   ]
  },
  {
   "cell_type": "code",
   "execution_count": null,
   "id": "9e578d5d-171b-46dc-a1ba-3fe8298b0c94",
   "metadata": {},
   "outputs": [],
   "source": [
    "@variables t x1(t) x2(t) y(t)\n",
    "@parameters m1 m2 f1 f2 d1 d2 F(t)\n",
    "D = Differential(t)"
   ]
  },
  {
   "cell_type": "code",
   "execution_count": null,
   "id": "57443baf",
   "metadata": {},
   "outputs": [],
   "source": [
    "eqs = [\n",
    "    D(D(x1)) ~ 1 / m1 * (-f1 * (x1 - x2) - d1 * (D(x1) - D(x2)) + 2F),\n",
    "    D(D(x2)) ~ 1 / m2 * (f1 * (x1 - x2) + d1 * (D(x1) - D(x2)) - f2 * x2 - d2 * D(x2)),\n",
    "    y ~ x2\n",
    "]\n",
    "@named dynamics = ODESystem(eqs)"
   ]
  },
  {
   "cell_type": "code",
   "execution_count": null,
   "id": "f54b14f9-ad7a-4a6b-8db2-30283fb89ba9",
   "metadata": {},
   "outputs": [],
   "source": [
    "# Symbolically transform to first order ODE system\n",
    "fo_dynamics = ode_order_lowering(dynamics)"
   ]
  },
  {
   "cell_type": "code",
   "execution_count": null,
   "id": "4019fe62-60f4-4f2c-a3aa-222d7f09ce22",
   "metadata": {},
   "outputs": [],
   "source": [
    "# Remove equation for y(t) since it is an algebraic equation, not an ODE\n",
    "simplified = structural_simplify(fo_dynamics)"
   ]
  },
  {
   "cell_type": "code",
   "execution_count": null,
   "id": "1854ff62-106f-4e55-a3e0-60681f3fe8e6",
   "metadata": {},
   "outputs": [],
   "source": [
    "observed(simplified)"
   ]
  },
  {
   "cell_type": "markdown",
   "id": "3d3fa60a-c64a-47bb-a33d-de94e994b2ce",
   "metadata": {},
   "source": [
    "# Exercise 1.2"
   ]
  },
  {
   "cell_type": "markdown",
   "id": "7c2122f3",
   "metadata": {},
   "source": [
    "The state space representation can be obtained by differentiating system and output equation with respect to state and input signal."
   ]
  },
  {
   "cell_type": "code",
   "execution_count": null,
   "id": "726470af-45c1-4bb5-888b-68299830ff8a",
   "metadata": {},
   "outputs": [],
   "source": [
    "# Reorder equations to have state [x1, D(x1), x2, D(x2)] and output y in the system, declare parameter F as control\n",
    "@named fo_sys = ODESystem(equations(fo_dynamics)[[3, 1, 4, 2, 5]], controls=[F])\n",
    "\n",
    "# Get state space representation\n",
    "A_sym = calculate_jacobian(fo_sys)[1:4, 1:4]"
   ]
  },
  {
   "cell_type": "code",
   "execution_count": null,
   "id": "e3d2bbe4-4c7a-4795-afa6-36e88238d697",
   "metadata": {},
   "outputs": [],
   "source": [
    "b_sym = calculate_control_jacobian(fo_sys)[1:4, :]"
   ]
  },
  {
   "cell_type": "code",
   "execution_count": null,
   "id": "1b63d4b5-d742-44fa-8d26-e129f5ff9a28",
   "metadata": {},
   "outputs": [],
   "source": [
    "c_sym = calculate_jacobian(fo_sys)[5:5, 1:4]"
   ]
  },
  {
   "cell_type": "code",
   "execution_count": null,
   "id": "163e8cdd-b2cc-47a6-82af-a13f77eb38d7",
   "metadata": {},
   "outputs": [],
   "source": [
    "d_sym = calculate_control_jacobian(fo_sys)[5:5, :]"
   ]
  },
  {
   "cell_type": "markdown",
   "id": "c673fbe2",
   "metadata": {},
   "source": [
    "# Exercise 1.3"
   ]
  },
  {
   "cell_type": "code",
   "execution_count": null,
   "id": "c68e3e13",
   "metadata": {},
   "outputs": [],
   "source": [
    "# First, plug in provided values for symbolic parameters\n",
    "A, b, c, d = map([A_sym, b_sym, c_sym, d_sym]) do M\n",
    "    substitute.(M, ([m1 => 2, m2 => 1, f1 => 1, f2 => 1, d1 => 1, d2 => 1],)) .|> Symbolics.value .|> Float64\n",
    "end\n",
    "# Create state space system\n",
    "sys = ss(A, b, c, d)"
   ]
  },
  {
   "cell_type": "markdown",
   "id": "7c8ec410",
   "metadata": {},
   "source": [
    "Check for controllability and observability:"
   ]
  },
  {
   "cell_type": "code",
   "execution_count": null,
   "id": "9b0f2a02-067c-4134-9487-2e0058512da1",
   "metadata": {},
   "outputs": [],
   "source": [
    "controllability_matrix = [b A*b A^2*b A^3*b]"
   ]
  },
  {
   "cell_type": "code",
   "execution_count": null,
   "id": "dfed47d2-aa71-4c62-96fb-c658b3018ad0",
   "metadata": {},
   "outputs": [],
   "source": [
    "if det(controllability_matrix) != 0\n",
    "    println(\"System is controllable.\")\n",
    "end"
   ]
  },
  {
   "cell_type": "code",
   "execution_count": null,
   "id": "11f6b11c-e179-427e-8977-809a774ee214",
   "metadata": {},
   "outputs": [],
   "source": [
    "observability_matrix = [c; c * A; c * A^2; c * A^3]"
   ]
  },
  {
   "cell_type": "code",
   "execution_count": null,
   "id": "75d104cf-0d40-430c-b05b-1b7e5f04ff71",
   "metadata": {},
   "outputs": [],
   "source": [
    "if det(observability_matrix) != 0 \n",
    "    println(\"System is observable.\")\n",
    "end"
   ]
  },
  {
   "cell_type": "code",
   "execution_count": null,
   "id": "c5b9f11f-c859-4c6b-88e2-cdd59ae956f9",
   "metadata": {},
   "outputs": [],
   "source": [
    "\n",
    "plot(step(sys, 30), label=\"open-loop step response\")"
   ]
  },
  {
   "cell_type": "code",
   "execution_count": null,
   "id": "f4ce90ed-963f-4eb0-8292-186e02ad36df",
   "metadata": {},
   "outputs": [],
   "source": [
    "plot(impulse(sys, 30), label=\"open-loop impulse response\")"
   ]
  },
  {
   "cell_type": "markdown",
   "id": "c4666dcb",
   "metadata": {},
   "source": [
    "# Exercise 1.4"
   ]
  },
  {
   "cell_type": "markdown",
   "id": "63c28e27",
   "metadata": {},
   "source": [
    "Feedback gain for state space controller:\n",
    "\n",
    "Determine feedback vector r such that closed-loop matrix\n",
    "    $A - b  r^T$\n",
    "has desired eigenvalues"
   ]
  },
  {
   "cell_type": "code",
   "execution_count": null,
   "id": "c9e2c53d-9c1f-4d2e-88d0-b2f3f62d7ab0",
   "metadata": {},
   "outputs": [],
   "source": [
    "# Create symbolic variables for feedback gain vector\n",
    "@variables r[1:4]\n",
    "# Symbolic array needs to be scalarized into array of symbolic variables\n",
    "Ap = A - b * r' |> Symbolics.scalarize"
   ]
  },
  {
   "cell_type": "code",
   "execution_count": null,
   "id": "84c16e6f-6049-4754-be05-d3b15a557959",
   "metadata": {},
   "outputs": [],
   "source": [
    "# First compute characteristic polynomial symbolically\n",
    "@variables λ\n",
    "cp_expr = det(λ * I - Ap)\n",
    "cp = build_function(cp_expr, λ) |> eval\n",
    "cp(λ)"
   ]
  },
  {
   "cell_type": "code",
   "execution_count": null,
   "id": "9c31665d-ff35-4097-9c40-ec4ce2152f49",
   "metadata": {},
   "outputs": [],
   "source": [
    "# Find feedback r such that resulting system has desired eigenvalues/poles of transfer function\n",
    "desired_poles = [-1, -1, -1 + im, -1 - im]\n",
    "cp_poles(λ) = prod(λ - p for p in desired_poles) |> real\n",
    "cp_poles(λ)"
   ]
  },
  {
   "cell_type": "code",
   "execution_count": null,
   "id": "855c0e64-5596-4b90-b729-c69bd1d1451b",
   "metadata": {},
   "outputs": [],
   "source": [
    "eqs = [cp(λ) ~ cp_poles(λ) for λ in -2:1:1]"
   ]
  },
  {
   "cell_type": "code",
   "execution_count": null,
   "id": "212fb046-d525-4db1-b785-d0ce4d54b936",
   "metadata": {
    "tags": []
   },
   "outputs": [],
   "source": [
    "# solve symbolic LES for feedback gain\n",
    "r_val = Symbolics.solve_for(eqs, r)"
   ]
  },
  {
   "cell_type": "markdown",
   "id": "91e6c75a-8a16-4f22-bd78-e7d273aaaba4",
   "metadata": {},
   "source": [
    "# Exercise 1.5"
   ]
  },
  {
   "cell_type": "markdown",
   "id": "3cead9ea-5f87-4328-9eea-6941de38bbfe",
   "metadata": {},
   "source": [
    "Compute prefilter for state space controller"
   ]
  },
  {
   "cell_type": "code",
   "execution_count": null,
   "id": "7961a032-2f61-4ce2-b7a9-42a396f9b575",
   "metadata": {},
   "outputs": [],
   "source": [
    "f = r_val\n",
    "v = 1 / ((c - d * f') * ((b * f' - A) \\ b) + d)[]"
   ]
  },
  {
   "cell_type": "code",
   "execution_count": null,
   "id": "25e64d38-33f2-4aca-bddc-1fddbd70502a",
   "metadata": {},
   "outputs": [],
   "source": [
    "# Closed loop control system:\n",
    "sys_cl = ss(A - b * f', v * b, c, d)"
   ]
  },
  {
   "cell_type": "code",
   "execution_count": null,
   "id": "81819cb8-a938-4bca-8d82-b26b8505258e",
   "metadata": {},
   "outputs": [],
   "source": [
    "# Plot (scaled) plant step response until t=30\n",
    "fig = plot(step(0.5 * sys, 30), lab=\"plant\")\n",
    "## Plot closed-loop step response\n",
    "plot!(step(sys_cl, 30), lab=\"state space controller\")"
   ]
  },
  {
   "cell_type": "markdown",
   "id": "9c032cf5-7c43-444a-bd35-5cd7fe5937fe",
   "metadata": {
    "tags": []
   },
   "source": [
    "# Exercise 1.6"
   ]
  },
  {
   "cell_type": "markdown",
   "id": "1a61a119-d399-4a9b-b4f6-3e5073c67ff1",
   "metadata": {},
   "source": [
    "Design PID controller with Ziegler-Nichols method\n",
    "\n",
    "First part: Determine critical amplification\n"
   ]
  },
  {
   "cell_type": "code",
   "execution_count": null,
   "id": "5ff1de0f-0ef7-4c60-a0b1-8e3cf7db075f",
   "metadata": {},
   "outputs": [],
   "source": [
    "# System matrix of closed loop system with P-controller\n",
    "@variables kₚ\n",
    "Ap = A - kₚ * b * c"
   ]
  },
  {
   "cell_type": "code",
   "execution_count": null,
   "id": "9417f1e2-54e8-4501-b525-16a3c8b67804",
   "metadata": {},
   "outputs": [],
   "source": [
    "# Symbolic characteristic polynomial\n",
    "cp_symb = det(λ * I - Ap)\n",
    "cp = build_function(cp_symb, λ) |> eval\n",
    "# At critical amplification the system has a purely imaginary eigenvalue λ=im*ω\n",
    "@variables ω\n",
    "cp(im * ω)"
   ]
  },
  {
   "cell_type": "code",
   "execution_count": null,
   "id": "b7ccf6ea-bb42-4ea9-a67a-01740c6da6d8",
   "metadata": {},
   "outputs": [],
   "source": [
    "# Solve nonlinear equation cp(im * ω) = 0,\n",
    "# i.e. find critical amplification kₚ and frequency ω where characteristic polynomial has zero at purely imaginary eigenvalue\n",
    "eqs = cp(im * ω) ~ 0\n",
    "@named nles = NonlinearSystem(eqs, [kₚ, ω], [])"
   ]
  },
  {
   "cell_type": "code",
   "execution_count": null,
   "id": "d82f8057-6f71-4a3f-9da2-7b89aa6f8140",
   "metadata": {},
   "outputs": [],
   "source": [
    "initial = [2.0, 2.0]\n",
    "nl_prob = NonlinearProblem(nles, initial)\n",
    "k_crit, omega = solve(nl_prob, NewtonRaphson())"
   ]
  },
  {
   "cell_type": "markdown",
   "id": "9b6685b7-8f4b-4056-88af-7229f628b415",
   "metadata": {
    "tags": []
   },
   "source": [
    "# Exercise 1.7"
   ]
  },
  {
   "cell_type": "markdown",
   "id": "77d288af-ee8f-4e7a-b12d-25b3e895d3b3",
   "metadata": {},
   "source": [
    "Calculate periodic time of oscillation at critical amplification."
   ]
  },
  {
   "cell_type": "code",
   "execution_count": null,
   "id": "af41bbb1-9ab9-4eb8-a87b-bea084e0e349",
   "metadata": {
    "tags": []
   },
   "outputs": [],
   "source": [
    "f_crit = omega / 2π\n",
    "T_crit = 1 / f_crit"
   ]
  },
  {
   "cell_type": "markdown",
   "id": "bef788e5-ba9a-4151-8382-7a6c1cf284f8",
   "metadata": {
    "tags": []
   },
   "source": [
    "# Alternatively: With an experiment"
   ]
  },
  {
   "cell_type": "markdown",
   "id": "631a0fe5-f00c-4894-8523-605572a93d09",
   "metadata": {},
   "source": [
    "Increase gain until reaching stability boundary"
   ]
  },
  {
   "cell_type": "code",
   "execution_count": null,
   "id": "306503ed-c231-4c53-8d35-c0abda60e77e",
   "metadata": {},
   "outputs": [],
   "source": [
    "@manipulate for k = 0:0.02:2\n",
    "    sys_p = ss(A - k * b * c, k * b, c, d)\n",
    "    sol = step(sys_p, 20)\n",
    "    # find local minima to determine periodic time\n",
    "    i_min = findall(eachindex(sol.y)) do i\n",
    "        x = sol.y\n",
    "        return (1 < i < length(x)) && x[i-1] > x[i] < x[i+1]\n",
    "    end\n",
    "    # consider time difference between local minima\n",
    "    T_arr = diff(sol.t[i_min])\n",
    "    # average time between minima to get periodic time\n",
    "    T = sum(T_arr) / length(T_arr)\n",
    "    \n",
    "    # plotting\n",
    "    p = plot(step(sys_p, 20), lab=\"P controller\")\n",
    "    if length(i_min) >= 2\n",
    "        i_min = i_min[1:2]\n",
    "        t_min = sol.t[i_min]\n",
    "        y_min = sol.y[i_min]\n",
    "        plot!(t_min[[1,2,2]], y_min[[1,1,2]], lab=\"T\")\n",
    "    end\n",
    "    hbox(vbox(\n",
    "        @sprintf(\"T = %.2f\", T), hskip(0em)\n",
    "    ), hskip(5em), p)\n",
    "end"
   ]
  },
  {
   "cell_type": "markdown",
   "id": "c0194672-2532-4eee-9454-6aa930c48d88",
   "metadata": {},
   "source": [
    "Critical amplification is where system reached stability boundary. The periodic time can then be rear off."
   ]
  },
  {
   "cell_type": "markdown",
   "id": "420e5753-0697-471f-adf1-205d6235cf9c",
   "metadata": {
    "tags": []
   },
   "source": [
    "# Exercise 1.8"
   ]
  },
  {
   "cell_type": "markdown",
   "id": "dd973133-7a5e-4229-ac9c-f6d9bad72c17",
   "metadata": {},
   "source": [
    "Apply Ziegler-Nichols rules"
   ]
  },
  {
   "cell_type": "code",
   "execution_count": null,
   "id": "b97f01e9-ef8e-41cf-965f-feb57a00828a",
   "metadata": {},
   "outputs": [],
   "source": [
    "k_p = 0.6 * k_crit\n",
    "T_I = 0.5 * T_crit\n",
    "T_D = 0.12 * T_crit\n",
    "k_p, T_I, T_D"
   ]
  },
  {
   "cell_type": "markdown",
   "id": "c0b44d4e-0151-46b3-9350-c4fd6548228f",
   "metadata": {},
   "source": [
    "Simulate resulting PID controller"
   ]
  },
  {
   "cell_type": "code",
   "execution_count": null,
   "id": "31c22fea-d71c-460b-9604-857baa0e8080",
   "metadata": {},
   "outputs": [],
   "source": [
    "controller = pid(k_p, T_I, T_D)\n",
    "openloop = tf(sys) * controller # multiply system and controller for serial combination\n",
    "\n",
    "sys_pid = feedback(openloop)    # closed-loop system\n",
    "plot!(fig, step(sys_pid, 30), lab=\"PID controller\")\n"
   ]
  }
 ],
 "metadata": {
  "@webio": {
   "lastCommId": "f3c02894-ad1b-46e0-afa4-47f4197f3e27",
   "lastKernelId": "1bcd96c5-0aa6-4a4d-9551-ccf985bc9418"
  },
  "kernelspec": {
   "display_name": "Julia 1.8.5",
   "language": "julia",
   "name": "julia-1.8"
  },
  "language_info": {
   "file_extension": ".jl",
   "mimetype": "application/julia",
   "name": "julia",
   "version": "1.8.5"
  }
 },
 "nbformat": 4,
 "nbformat_minor": 5
}
